{
 "cells": [
  {
   "cell_type": "code",
   "execution_count": null,
   "id": "fc1fc1f6",
   "metadata": {},
   "outputs": [],
   "source": [
    "import numpy as np\n",
    "import pandas as pd\n",
    "\n",
    "import seaborn as sns\n",
    "from matplotlib import pyplot as plt"
   ]
  },
  {
   "cell_type": "markdown",
   "id": "be93d091",
   "metadata": {},
   "source": [
    "We are now going to take on the Titanic dataset, and predict wheter a given passanger will survive or not - given a few features."
   ]
  },
  {
   "cell_type": "markdown",
   "id": "3fd1d7d4",
   "metadata": {},
   "source": [
    "Make sure to read about the dataset [here.](https://www.kaggle.com/c/titanic/data)"
   ]
  },
  {
   "cell_type": "code",
   "execution_count": null,
   "id": "ea3a7ac6",
   "metadata": {},
   "outputs": [],
   "source": [
    "# load the titanic dataset\n",
    "\n",
    "titanic_df = pd.read_csv('../data/titanic.csv')\n",
    "\n",
    "titanic_df"
   ]
  },
  {
   "cell_type": "markdown",
   "id": "d3b0d7ed",
   "metadata": {},
   "source": [
    "---\n",
    "\n",
    "## Challenges"
   ]
  },
  {
   "cell_type": "markdown",
   "id": "2f852ee5",
   "metadata": {},
   "source": [
    "**Task 1**\n",
    "\n",
    "Read the documentation of the dataset, and think carefully about the features available. Which ones do you think are relevant to predict wether someone survives or not?\n",
    "\n",
    "Now drop the columns you think are redundant."
   ]
  },
  {
   "cell_type": "code",
   "execution_count": null,
   "id": "e3b3f655",
   "metadata": {},
   "outputs": [],
   "source": []
  },
  {
   "cell_type": "markdown",
   "id": "597ccead",
   "metadata": {},
   "source": [
    "**Task 2**\n",
    "\n",
    "Do some preliminary EDA, and clean columns in a suitable way if warranted. Remember to also conduct (if needed) feature engineering, one-hot-encoding (categorical columns) etc.\n",
    "\n",
    "In general, prepare your data for training.\n",
    "\n",
    "*Note*: You do NOT need to do any feature scaling for logistic regression."
   ]
  },
  {
   "cell_type": "markdown",
   "id": "b50d158b",
   "metadata": {},
   "source": [
    "**Task 3**\n",
    "\n",
    "Train a logistic regression model to predict wether someone survives, or not. \n",
    "\n",
    "Use 5-fold cross-validation to assess performance.\n",
    "\n",
    "Use accuracy, precision and recall score."
   ]
  },
  {
   "cell_type": "code",
   "execution_count": null,
   "id": "19171d5c",
   "metadata": {},
   "outputs": [],
   "source": []
  },
  {
   "cell_type": "markdown",
   "id": "af09d081",
   "metadata": {},
   "source": [
    "**Task 4**\n",
    "\n",
    "Now do a normal train/test split and train a logistic model on this.\n",
    "\n",
    "Plot a confusion matrix on the predictions of your test set. Is your model performing okay-ish?"
   ]
  },
  {
   "cell_type": "code",
   "execution_count": null,
   "id": "149b2adb",
   "metadata": {},
   "outputs": [],
   "source": []
  }
 ],
 "metadata": {
  "kernelspec": {
   "display_name": "deeplearning",
   "language": "python",
   "name": "python3"
  },
  "language_info": {
   "codemirror_mode": {
    "name": "ipython",
    "version": 3
   },
   "file_extension": ".py",
   "mimetype": "text/x-python",
   "name": "python",
   "nbconvert_exporter": "python",
   "pygments_lexer": "ipython3",
   "version": "3.11.7"
  }
 },
 "nbformat": 4,
 "nbformat_minor": 5
}
