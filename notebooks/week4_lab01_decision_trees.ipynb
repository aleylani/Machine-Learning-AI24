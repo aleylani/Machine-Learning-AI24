{
 "cells": [
  {
   "cell_type": "code",
   "execution_count": null,
   "id": "fc1fc1f6",
   "metadata": {},
   "outputs": [],
   "source": [
    "import numpy as np\n",
    "import pandas as pd\n",
    "\n",
    "import seaborn as sns\n",
    "from matplotlib import pyplot as plt"
   ]
  },
  {
   "cell_type": "markdown",
   "id": "be93d091",
   "metadata": {},
   "source": [
    "During the lecture, we learned about a new type of models - Decision Trees. They work by asking simple questions about the features in your dataset, and build a regressor/classifier by sequentially combining these questions.\n",
    "\n",
    "In this lab, we are to get more familiar with decision trees, and learn to implement them aswell."
   ]
  },
  {
   "cell_type": "markdown",
   "id": "df4c2e7f",
   "metadata": {},
   "source": [
    "---\n",
    "\n",
    "## Challanges\n",
    "\n",
    "**Task 1**\n",
    "\n",
    "Before we proceed with decision trees, have a readthrough of [this](https://www.kaggle.com/code/shirazumlintraminhaghjou/titanic-prediction-90-accuracy) Kaggle notebook. It contains some interesting feature engineering for the Titanic dataset we worked with last week. See if you can learn something cool.\n",
    "\n",
    "*Note*: The title of the notebook is clickbaity."
   ]
  },
  {
   "cell_type": "markdown",
   "id": "37efab8d",
   "metadata": {},
   "source": [
    "**Task 2**\n",
    "\n",
    "Now go back to your last lab, where we trained a logistic regression model to predict survivability of passangers. Now also initialize and train a decision tree classifier for the same task, using the same features you used for logistic regression. You don't have to give the model any particular arguments when initializing, it's simply sufficient with the following:"
   ]
  },
  {
   "cell_type": "code",
   "execution_count": 1,
   "id": "c58cbeed",
   "metadata": {},
   "outputs": [],
   "source": [
    "from sklearn.tree import DecisionTreeClassifier\n",
    "model = DecisionTreeClassifier()"
   ]
  },
  {
   "cell_type": "markdown",
   "id": "aefe696e",
   "metadata": {},
   "source": [
    "Remember to cross-validate your results. \n",
    "\n",
    "After your trained your tree, try this code. What do you see?"
   ]
  },
  {
   "cell_type": "code",
   "execution_count": null,
   "id": "aec71df7",
   "metadata": {},
   "outputs": [],
   "source": [
    "from sklearn import tree\n",
    "import matplotlib.pyplot as plt\n",
    "\n",
    "fig = plt.figure(figsize=(25,20))\n",
    "_ = tree.plot_tree(model,\n",
    "                   filled=True)\n",
    " \n",
    "plt.show()"
   ]
  },
  {
   "cell_type": "markdown",
   "id": "242e1b88",
   "metadata": {},
   "source": [
    "*Note*: \n",
    "\n",
    "Decision Tree's are **not** sensitive to scale differences between features, you therefore do not need to conduct feature scaling as a preperation for training decision tree's. \n",
    "\n",
    "Although it wouldn't hurt if you did - in fact, it would't affect the performance whatsoever."
   ]
  },
  {
   "cell_type": "markdown",
   "id": "81dd70da",
   "metadata": {},
   "source": [
    "**Task 3**\n",
    "\n",
    "As we also discussed in the lecture, the number of Decision Nodes in a Tree highly influences it's performance. Too few, and you'll under - too many, and you'll overfit.\n",
    "\n",
    "Now, do the same task as in Task 2, but this time try initializing your model with different allowed maximum depths. For example, for a max depth of 1:"
   ]
  },
  {
   "cell_type": "markdown",
   "id": "5b21303a",
   "metadata": {},
   "source": [
    "Try different values of max_depth and see which one yields best performance. Remember to cross validate each time!"
   ]
  },
  {
   "cell_type": "markdown",
   "id": "cc9d83e4",
   "metadata": {},
   "source": [
    "**Task 4**\n",
    "\n",
    "Read more about the different parameters you can provide to adjust your tree's by reading the official documentation\n",
    "\n",
    "[Decision Tree Classifier](https://scikit-learn.org/stable/modules/generated/sklearn.tree.DecisionTreeClassifier.html)\n",
    "\n",
    "[Decison Tree Regressor](https://scikit-learn.org/stable/modules/generated/sklearn.tree.DecisionTreeRegressor.html)\n",
    "\n",
    "See if you find anything interesting you'd like to experiment with. There is much too learn about trees!"
   ]
  },
  {
   "cell_type": "markdown",
   "id": "3215d411",
   "metadata": {},
   "source": []
  }
 ],
 "metadata": {
  "kernelspec": {
   "display_name": "deeplearning",
   "language": "python",
   "name": "python3"
  },
  "language_info": {
   "codemirror_mode": {
    "name": "ipython",
    "version": 3
   },
   "file_extension": ".py",
   "mimetype": "text/x-python",
   "name": "python",
   "nbconvert_exporter": "python",
   "pygments_lexer": "ipython3",
   "version": "3.11.7"
  }
 },
 "nbformat": 4,
 "nbformat_minor": 5
}
