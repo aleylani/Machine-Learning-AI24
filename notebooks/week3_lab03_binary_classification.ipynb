{
 "cells": [
  {
   "cell_type": "code",
   "execution_count": null,
   "id": "fc1fc1f6",
   "metadata": {},
   "outputs": [],
   "source": [
    "import numpy as np\n",
    "import pandas as pd\n",
    "\n",
    "from sklearn.datasets import make_blobs\n",
    "from matplotlib import pyplot as plt"
   ]
  },
  {
   "cell_type": "markdown",
   "id": "131cc8ba",
   "metadata": {},
   "source": [
    "## Problem statement\n",
    "\n",
    "The goal of this lab is to perform classification, using logistic regression, on simple self-generated data.\n",
    "\n",
    "We'll create the data using sklearn's make_blobs."
   ]
  },
  {
   "cell_type": "markdown",
   "id": "5f2ed956",
   "metadata": {},
   "source": [
    "  "
   ]
  },
  {
   "cell_type": "code",
   "execution_count": null,
   "id": "8592eda7",
   "metadata": {},
   "outputs": [],
   "source": [
    "coordinates, labels = make_blobs(n_samples=[500,500], \n",
    "                                 n_features=3, random_state=104)\n",
    "\n",
    "# visualisera de nyss skapade blobsen\n",
    "\n",
    "fig = plt.figure(figsize = (10, 8))\n",
    "ax = plt.axes(projection =\"3d\")\n",
    "\n",
    "ax.scatter3D(coordinates[:,0],\n",
    "             coordinates[:,1],\n",
    "             coordinates[:,2], \n",
    "             c=labels)\n",
    "\n",
    "for label in set(labels):\n",
    "    indices = labels == label\n",
    "    ax.scatter3D(coordinates[indices, 0], coordinates[indices, 1], coordinates[indices, 2], label=f'Class {label}')\n",
    "\n",
    "ax.legend()\n",
    "\n",
    "ax.set_xlabel('x coordinate')\n",
    "ax.set_ylabel('y coordinate')\n",
    "ax.set_zlabel('z coordinate')\n",
    "\n",
    "ax.set_title(\"Class Divisions\");"
   ]
  },
  {
   "cell_type": "markdown",
   "id": "1853c4ff",
   "metadata": {},
   "source": [
    "To make this more explicit, let's make a df out of this data"
   ]
  },
  {
   "cell_type": "code",
   "execution_count": null,
   "id": "fb5cd5f4",
   "metadata": {},
   "outputs": [],
   "source": [
    "df = pd.DataFrame(coordinates).rename(columns={0:'x', 1:'y', 2:'z'})\n",
    "df['class'] = labels\n",
    "df"
   ]
  },
  {
   "cell_type": "code",
   "execution_count": null,
   "id": "647a8bff",
   "metadata": {},
   "outputs": [],
   "source": [
    "df['class'].value_counts()"
   ]
  },
  {
   "cell_type": "markdown",
   "id": "e63ea45d",
   "metadata": {},
   "source": [
    "As seen above, we now have three features and one target. We want to train a model to be able to classify points in space to either class 0, or class 1.\n",
    "  "
   ]
  },
  {
   "cell_type": "markdown",
   "id": "589f5f3e",
   "metadata": {},
   "source": [
    "**Train/test split**"
   ]
  },
  {
   "cell_type": "code",
   "execution_count": null,
   "id": "b31fd3df",
   "metadata": {},
   "outputs": [],
   "source": [
    "from sklearn.model_selection import train_test_split\n",
    "\n",
    "X, y = df.drop(columns=['class']).values, df['class'].values\n",
    "\n",
    "test_size = 0.2\n",
    "\n",
    "X_train, X_test, y_train, y_test = train_test_split(X,\n",
    "                                                    y,\n",
    "                                                    test_size=test_size, \n",
    "                                                    random_state=42)\n",
    "\n",
    "print(X_train.shape)\n",
    "print(y_train.shape)\n",
    "\n",
    "print(X_test.shape)\n",
    "print(y_test.shape)"
   ]
  },
  {
   "cell_type": "markdown",
   "id": "82bbe45c",
   "metadata": {},
   "source": [
    "We need to reshape our targets. The features are already 2D, as required."
   ]
  },
  {
   "cell_type": "code",
   "execution_count": null,
   "id": "54ea5dc5",
   "metadata": {},
   "outputs": [],
   "source": [
    "y_train = y_train.reshape(-1,1)\n",
    "y_test = y_test.reshape(-1,1)\n",
    "\n",
    "print(y_train.shape)\n",
    "print(y_test.shape)"
   ]
  },
  {
   "cell_type": "markdown",
   "id": "35864e93",
   "metadata": {},
   "source": [
    "**Initialize a logistic regression classifier model** "
   ]
  },
  {
   "cell_type": "code",
   "execution_count": null,
   "id": "5e082ba9",
   "metadata": {},
   "outputs": [],
   "source": [
    "from sklearn.linear_model import LogisticRegression\n",
    "\n",
    "logistic_model = LogisticRegression()\n",
    "\n",
    "#train the model\n",
    "logistic_model.fit(X_train, y_train)"
   ]
  },
  {
   "cell_type": "markdown",
   "id": "c21332c9",
   "metadata": {},
   "source": [
    "**Evaluate the model**"
   ]
  },
  {
   "cell_type": "markdown",
   "id": "7bcd4492",
   "metadata": {},
   "source": [
    "Now predict on both train and test set"
   ]
  },
  {
   "cell_type": "code",
   "execution_count": null,
   "id": "78bb5294",
   "metadata": {},
   "outputs": [],
   "source": [
    "# vi kan använda predict_proba för att få ut predicted sannolikhet för respektive klass\n",
    "\n",
    "y_train_hats_probabilities = logistic_model.predict_proba(X_train)\n",
    "y_test_hats_probabilities = logistic_model.predict_proba(X_test)"
   ]
  },
  {
   "cell_type": "code",
   "execution_count": null,
   "id": "feec0d65",
   "metadata": {},
   "outputs": [],
   "source": [
    "y_train_hats_probabilities[0]"
   ]
  },
  {
   "cell_type": "code",
   "execution_count": null,
   "id": "bb662549",
   "metadata": {},
   "outputs": [],
   "source": [
    "9.992*10**(-1) + 7.81*10**(-4)"
   ]
  },
  {
   "cell_type": "code",
   "execution_count": null,
   "id": "9587a309",
   "metadata": {},
   "outputs": [],
   "source": [
    "y_test_hats_probabilities[0]"
   ]
  },
  {
   "cell_type": "code",
   "execution_count": null,
   "id": "ce6be47a",
   "metadata": {},
   "outputs": [],
   "source": [
    "9.99942675*10**(-1) + 5.73253934*10**(-5)"
   ]
  },
  {
   "cell_type": "code",
   "execution_count": null,
   "id": "936399fa",
   "metadata": {},
   "outputs": [],
   "source": [
    "# vi kan använda predict för att direkt få ut den mest sannolika klassen\n",
    "\n",
    "y_train_hats = logistic_model.predict(X_train)\n",
    "y_test_hats = logistic_model.predict(X_test)"
   ]
  },
  {
   "cell_type": "markdown",
   "id": "016a0000",
   "metadata": {},
   "source": [
    "Have a look at our predictions on the test set"
   ]
  },
  {
   "cell_type": "code",
   "execution_count": null,
   "id": "e883f970",
   "metadata": {},
   "outputs": [],
   "source": [
    "y_test_hats"
   ]
  },
  {
   "cell_type": "markdown",
   "id": "060826de",
   "metadata": {},
   "source": [
    "Accuracy is a pretty neat measure to use when performing binary classification"
   ]
  },
  {
   "cell_type": "code",
   "execution_count": null,
   "id": "01dad830",
   "metadata": {},
   "outputs": [],
   "source": [
    "from sklearn.metrics import accuracy_score\n",
    "\n",
    "print('Train accuracy:')\n",
    "print(accuracy_score(y_train, y_train_hats))\n",
    "print('Test accuracy:')\n",
    "print(accuracy_score(y_test, y_test_hats))"
   ]
  },
  {
   "cell_type": "markdown",
   "id": "757b413f",
   "metadata": {},
   "source": [
    "However, accuracy is **not** the end of the story here. Let's dive deeper into these results to try to do some *error analysis**.\n",
    "\n",
    "A confusion matrix allows us to understand better how to interpret our results here."
   ]
  },
  {
   "cell_type": "code",
   "execution_count": null,
   "id": "627e6ad4",
   "metadata": {},
   "outputs": [],
   "source": [
    "from sklearn.metrics import confusion_matrix\n",
    "\n",
    "cm = confusion_matrix(y_test, y_test_hats)\n",
    "\n",
    "cm"
   ]
  },
  {
   "cell_type": "markdown",
   "id": "48cacff3",
   "metadata": {},
   "source": [
    "Ok, to understand the numbers above. Let's do a better plot."
   ]
  },
  {
   "cell_type": "code",
   "execution_count": null,
   "id": "15e15870",
   "metadata": {},
   "outputs": [],
   "source": [
    "from sklearn.metrics import ConfusionMatrixDisplay\n",
    "\n",
    "cm = confusion_matrix(y_true=y_test, y_pred=y_test_hats)\n",
    "\n",
    "cm_display = ConfusionMatrixDisplay(confusion_matrix = cm, display_labels = [0, 1])\n",
    "\n",
    "cm_display.plot()\n",
    "plt.show() "
   ]
  },
  {
   "cell_type": "markdown",
   "id": "36ede755",
   "metadata": {},
   "source": [
    "---\n",
    "\n",
    "## Challanges"
   ]
  },
  {
   "cell_type": "markdown",
   "id": "9e087cfb",
   "metadata": {},
   "source": [
    "**Task 1**\n",
    "\n",
    "For the model trained above, run the code to predict the class for the following (new) data point.\n",
    "\n",
    "Does the models prediction make sense? Try looking at the graph at the top and see if checks out."
   ]
  },
  {
   "cell_type": "code",
   "execution_count": null,
   "id": "7b2c545e",
   "metadata": {},
   "outputs": [],
   "source": [
    "x = np.array([-2,-5,3])\n",
    "\n",
    "x = x.reshape(1,3)     # note that the model now expects a single data point to have 1 row, and 3 columns (features)"
   ]
  },
  {
   "cell_type": "markdown",
   "id": "f6a982e0",
   "metadata": {},
   "source": [
    "**Task 2**\n",
    "\n",
    "Try changing the coordinates of the new data point above, so that it predicts the opposite class of what it did in Task 1."
   ]
  },
  {
   "cell_type": "code",
   "execution_count": null,
   "id": "85f2c247",
   "metadata": {},
   "outputs": [],
   "source": []
  },
  {
   "cell_type": "markdown",
   "id": "3d1a50a8",
   "metadata": {},
   "source": [
    "**Task 3**\n",
    "\n",
    "Read more about how to interpret the confusion matrix [here](https://www.geeksforgeeks.org/confusion-matrix-machine-learning/).\n",
    "Make sure you understand the concepts precision, recall and accuracy."
   ]
  },
  {
   "cell_type": "code",
   "execution_count": null,
   "id": "7fe60a23",
   "metadata": {},
   "outputs": [],
   "source": []
  },
  {
   "cell_type": "markdown",
   "id": "3a2a76c2",
   "metadata": {},
   "source": [
    "**Task 4**\n",
    "\n",
    "Above, we only implemented a simple train/test split. Instead, perform the training and assess performance using 5-fold cross-validation, instead.\n",
    "\n",
    "Use accuracy as score :)"
   ]
  },
  {
   "cell_type": "code",
   "execution_count": null,
   "id": "a848e7be",
   "metadata": {},
   "outputs": [],
   "source": []
  },
  {
   "cell_type": "markdown",
   "id": "308f96b1",
   "metadata": {},
   "source": []
  }
 ],
 "metadata": {
  "kernelspec": {
   "display_name": "machinelearning",
   "language": "python",
   "name": "python3"
  },
  "language_info": {
   "codemirror_mode": {
    "name": "ipython",
    "version": 3
   },
   "file_extension": ".py",
   "mimetype": "text/x-python",
   "name": "python",
   "nbconvert_exporter": "python",
   "pygments_lexer": "ipython3",
   "version": "3.11.7"
  }
 },
 "nbformat": 4,
 "nbformat_minor": 5
}
